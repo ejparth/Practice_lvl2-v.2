{
 "cells": [
  {
   "cell_type": "markdown",
   "id": "c340828a",
   "metadata": {},
   "source": [
    "#### Find maximum and mininmum from the list of numbers"
   ]
  },
  {
   "cell_type": "code",
   "execution_count": 3,
   "id": "4f0d116d",
   "metadata": {},
   "outputs": [
    {
     "name": "stdout",
     "output_type": "stream",
     "text": [
      "334 1\n"
     ]
    }
   ],
   "source": [
    "A = [23,12,85,23,323,1,334,3]\n",
    "\n",
    "min =10000000\n",
    "max = 0\n",
    "\n",
    "for i in range(len(A)):\n",
    "    if  A[i] < min:\n",
    "        min = A[i]\n",
    "    if  A[i] > max:\n",
    "        max = A[i]\n",
    "print(max,min)\n"
   ]
  },
  {
   "cell_type": "markdown",
   "id": "7fadeffa",
   "metadata": {},
   "source": [
    "#### To check whether a number is a palindrome or not"
   ]
  },
  {
   "cell_type": "code",
   "execution_count": 48,
   "id": "d5404b12",
   "metadata": {},
   "outputs": [
    {
     "name": "stdout",
     "output_type": "stream",
     "text": [
      "Enter a word RotaVator\n",
      "Palindrome\n"
     ]
    }
   ],
   "source": [
    "import math\n",
    "input_word = input('Enter a word ')\n",
    "\n",
    "word = (input_word).lower()\n",
    "\n",
    "full = len(word)\n",
    "full_length_range = range(len(word))\n",
    "half_range = int(len(word)/2)\n",
    "\n",
    "for i in range(0, half_range):\n",
    "    \n",
    "    if word[i] != word[full-i-1]:\n",
    "        print(\"Not a palindrome\")\n",
    "        break\n",
    "    else:\n",
    "        print(\"It is a Palindrome\")\n",
    "        break\n",
    "    \n",
    "       \n",
    "        "
   ]
  },
  {
   "cell_type": "markdown",
   "id": "dad04d40",
   "metadata": {},
   "source": [
    "#### Write a program that converts a given days in years, weeks and months"
   ]
  },
  {
   "cell_type": "code",
   "execution_count": 60,
   "id": "954c918b",
   "metadata": {},
   "outputs": [
    {
     "name": "stdout",
     "output_type": "stream",
     "text": [
      "Enter the number of days: 655\n",
      "For 655 days we got 1.79 year, 93.6 weeks, 54.6 months\n"
     ]
    }
   ],
   "source": [
    "days = int(input(\"Enter the number of days: \"))\n",
    "\n",
    "year = round(float(days/365), 2)\n",
    "weeks = round(float(days/7),1)\n",
    "months = round(float(days/12),1)\n",
    "\n",
    "print(\"For {} days we got {} year, {} weeks, {} months\".format(days,year,weeks, months))"
   ]
  },
  {
   "cell_type": "markdown",
   "id": "be1f064a",
   "metadata": {},
   "source": [
    "#### Write a program that reverses a given string"
   ]
  },
  {
   "cell_type": "code",
   "execution_count": 128,
   "id": "f9a5985c",
   "metadata": {},
   "outputs": [
    {
     "name": "stdout",
     "output_type": "stream",
     "text": [
      "Enter a string : king\n",
      "The reverse string is : gnik\n"
     ]
    }
   ],
   "source": [
    "string = input(\"Enter a string : \")\n",
    "\n",
    "A = []\n",
    "\n",
    "full = len(string)\n",
    "\n",
    "for i in range(0, len(string)):\n",
    "    A.append(string[full-i-1])\n",
    "\n",
    "print((\"The reverse string is : {}\".format(''.join(A))))\n",
    "    \n",
    "\n"
   ]
  },
  {
   "cell_type": "markdown",
   "id": "41d50675",
   "metadata": {},
   "source": [
    "#### Write a program to check for a panagram"
   ]
  },
  {
   "cell_type": "code",
   "execution_count": 126,
   "id": "04d2f200",
   "metadata": {},
   "outputs": [
    {
     "name": "stdout",
     "output_type": "stream",
     "text": [
      "No, Not a panagram\n",
      "{' ', 'l', 'i', 'g', 'r'}\n"
     ]
    }
   ],
   "source": [
    "import string\n",
    " \n",
    "alphabet = set(string.ascii_lowercase)\n",
    "\n",
    "def ispangram(string):\n",
    "    return set(string.lower()) >= alphabet\n",
    "\n",
    "\n",
    "string = \"girl girl\"\n",
    "\n",
    "if ispangram(string) == True:\n",
    "    print(\"Yes, it is a panagram\")\n",
    "else:\n",
    "    print(\"No, Not a panagram\")\n",
    "        \n",
    "\n",
    "\n",
    "print(set(string.lower()))          \n",
    "\n",
    "                \n",
    "    "
   ]
  },
  {
   "cell_type": "markdown",
   "id": "c3f99de4",
   "metadata": {},
   "source": [
    "#### Create a function to check the number of vowels in a given string"
   ]
  },
  {
   "cell_type": "code",
   "execution_count": 145,
   "id": "95595316",
   "metadata": {},
   "outputs": [
    {
     "name": "stdout",
     "output_type": "stream",
     "text": [
      "Enter a stringI am iron man you don't know me\n",
      "{'u', 'e', 'o', 'i', 'a'}\n"
     ]
    }
   ],
   "source": [
    "vowels = [\"a\", 'i', 'o', 'u', 'e']\n",
    "\n",
    "present = []\n",
    "\n",
    "def count_vowels(string):\n",
    "    for i in range(len(string)):\n",
    "        for j in range(0,5):\n",
    "            if string[i] == vowels[j]:\n",
    "                present.append(string[i])\n",
    "    return present\n",
    "\n",
    "inp = input(\"Enter a string\")\n",
    "string = (inp.lower())\n",
    "\n",
    "print(set(count_vowels(string)))"
   ]
  },
  {
   "cell_type": "markdown",
   "id": "bb46316a",
   "metadata": {},
   "source": [
    "#### Create a function to count the number of vowels in a given string"
   ]
  },
  {
   "cell_type": "code",
   "execution_count": 165,
   "id": "4c697bfe",
   "metadata": {},
   "outputs": [
    {
     "name": "stdout",
     "output_type": "stream",
     "text": [
      "The number of vowels are :\n",
      "a => 4\n",
      "i => 1\n",
      "e => 1\n",
      "o => 2\n",
      "u => 1\n"
     ]
    }
   ],
   "source": [
    "vowels = \"aieou\"\n",
    "vowelsdata = {}.fromkeys(vowels, 0)\n",
    "\n",
    "string = \"I am iron man, what are you?\"\n",
    "\n",
    "for charachter in string:\n",
    "    if charachter in vowels:\n",
    "        vowelsdata[charachter] +=1\n",
    "\n",
    "print(\"The number of vowels are :\")\n",
    "for i in vowelsdata:\n",
    "    print(i,\"=>\",vowelsdata[i])"
   ]
  },
  {
   "cell_type": "markdown",
   "id": "d8267ac5",
   "metadata": {},
   "source": [
    "#### Write a program to check whether the number is prime or not"
   ]
  },
  {
   "cell_type": "code",
   "execution_count": 240,
   "id": "9054158f",
   "metadata": {},
   "outputs": [
    {
     "name": "stdout",
     "output_type": "stream",
     "text": [
      "Not a prime\n"
     ]
    }
   ],
   "source": [
    "def check_prime(number):\n",
    "    for i in range(2,number):\n",
    "        if number%i == 0:\n",
    "            return False\n",
    "    else:\n",
    "        return True\n",
    "\n",
    "if check_prime(9) == False:\n",
    "    print(\"Not a prime\")\n",
    "else:\n",
    "    print(\"It is a prime\")"
   ]
  },
  {
   "cell_type": "markdown",
   "id": "06abc31e",
   "metadata": {},
   "source": [
    "#### Write a program to check how many prime numbers b/w 1-100"
   ]
  },
  {
   "cell_type": "code",
   "execution_count": null,
   "id": "b240b6ec",
   "metadata": {},
   "outputs": [],
   "source": [
    "num = 101\n",
    "def check_prime(number):\n",
    "        for j in range(2,number):\n",
    "            if number%j == 0:\n",
    "                return False\n",
    "        else:\n",
    "             return True\n",
    "                \n",
    "print (\"Prime number b/w this interval are : \")            \n",
    "for i in range(2,num+1):            \n",
    "    if check_prime(i) == False:\n",
    "        pass\n",
    "    else:\n",
    "       print(i) \n",
    "                "
   ]
  },
  {
   "cell_type": "markdown",
   "id": "2069aa5a",
   "metadata": {},
   "source": [
    "### Create a fibonnaci sequence upto a given number of terms"
   ]
  },
  {
   "cell_type": "markdown",
   "id": "9832ee60",
   "metadata": {},
   "source": [
    "code the box :\n",
    "-------------\n",
    "| a | b | c |\n",
    "-------------\n",
    "        "
   ]
  },
  {
   "cell_type": "code",
   "execution_count": 304,
   "id": "644cb8a9",
   "metadata": {},
   "outputs": [
    {
     "name": "stdout",
     "output_type": "stream",
     "text": [
      "Enter the limit of fibonnaci sequence : 15\n",
      "0 1 1 2 3 5 8 13 21 34 55 89 144 233 377 610 "
     ]
    }
   ],
   "source": [
    "num = 1\n",
    "number = 0\n",
    "a = 0\n",
    "b = 1\n",
    "\n",
    "num = int(input(\"Enter the limit of fibonnaci sequence : \"))\n",
    "\n",
    "if num == 1:\n",
    "    print(a)\n",
    "if num == 2:\n",
    "    print(a, b)\n",
    "\n",
    "else:\n",
    "    print(a, b, end = \" \")\n",
    "    for i in range(1,num):\n",
    "        c = a + b\n",
    "        print(c, end = \" \")\n",
    "        a = b\n",
    "        b = c\n",
    "             "
   ]
  },
  {
   "cell_type": "markdown",
   "id": "2dab2837",
   "metadata": {},
   "source": [
    "#### "
   ]
  },
  {
   "cell_type": "markdown",
   "id": "965abb08",
   "metadata": {},
   "source": [
    "### write a program to print the names present in list starting with a given letter "
   ]
  },
  {
   "cell_type": "code",
   "execution_count": 302,
   "id": "86046d15",
   "metadata": {},
   "outputs": [
    {
     "name": "stdout",
     "output_type": "stream",
     "text": [
      "Enter the alphabet to check : s\n",
      "Suresh\n",
      "Smriti\n"
     ]
    }
   ],
   "source": [
    "List = ['Anil', 'Vijay', 'Suresh', 'Akash', 'Smriti', 'Aayush']\n",
    "\n",
    "alphabet = input(\"Enter the alphabet to check : \").lower()\n",
    "\n",
    "for i in List:\n",
    "    name_str = i\n",
    "    if (name_str[:1]).lower() == alphabet:\n",
    "        print(i)\n"
   ]
  }
 ],
 "metadata": {
  "kernelspec": {
   "display_name": "Python 3 (ipykernel)",
   "language": "python",
   "name": "python3"
  },
  "language_info": {
   "codemirror_mode": {
    "name": "ipython",
    "version": 3
   },
   "file_extension": ".py",
   "mimetype": "text/x-python",
   "name": "python",
   "nbconvert_exporter": "python",
   "pygments_lexer": "ipython3",
   "version": "3.9.12"
  }
 },
 "nbformat": 4,
 "nbformat_minor": 5
}
